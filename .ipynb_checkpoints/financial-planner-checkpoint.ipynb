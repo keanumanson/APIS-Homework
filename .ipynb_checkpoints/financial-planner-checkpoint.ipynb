{
 "cells": [
  {
   "cell_type": "markdown",
   "metadata": {},
   "source": [
    "# Unit 5 - Financial Planning"
   ]
  },
  {
   "cell_type": "code",
   "execution_count": 212,
   "metadata": {},
   "outputs": [],
   "source": [
    "# Initial imports\n",
    "import os\n",
    "import requests\n",
    "import pandas as pd\n",
    "from dotenv import load_dotenv\n",
    "import alpaca_trade_api as tradeapi\n",
    "from MCForecastTools import MCSimulation\n",
    "\n",
    "%matplotlib inline"
   ]
  },
  {
   "cell_type": "code",
   "execution_count": 213,
   "metadata": {},
   "outputs": [
    {
     "data": {
      "text/plain": [
       "True"
      ]
     },
     "execution_count": 213,
     "metadata": {},
     "output_type": "execute_result"
    }
   ],
   "source": [
    "# Load .env enviroment variables\n",
    "load_dotenv()"
   ]
  },
  {
   "cell_type": "markdown",
   "metadata": {},
   "source": [
    "## Part 1 - Personal Finance Planner"
   ]
  },
  {
   "cell_type": "markdown",
   "metadata": {},
   "source": [
    "### Collect Crypto Prices Using the `requests` Library"
   ]
  },
  {
   "cell_type": "code",
   "execution_count": 214,
   "metadata": {},
   "outputs": [
    {
     "name": "stdout",
     "output_type": "stream",
     "text": [
      "  Assets  Amount\n",
      "0    BTC     1.2\n",
      "1    ETH     5.3\n"
     ]
    }
   ],
   "source": [
    "# Set current amount of crypto assets\n",
    "tickers_crypto = ['BTC', 'ETH']\n",
    "my_btc = 1.2\n",
    "my_eth = 5.3\n",
    "\n",
    "    #create a df\n",
    "df_crypto = pd.DataFrame()\n",
    "df_crypto['Assets'] = tickers_crypto\n",
    "df_crypto['Amount'] = my_btc, my_eth\n",
    "\n",
    "print(df_crypto)"
   ]
  },
  {
   "cell_type": "code",
   "execution_count": 215,
   "metadata": {},
   "outputs": [],
   "source": [
    "# Crypto API URLs\n",
    "btc_url = \"https://api.alternative.me/v2/ticker/Bitcoin/?convert=CAD\"\n",
    "eth_url = \"https://api.alternative.me/v2/ticker/Ethereum/?convert=CAD\"\n",
    "\n",
    "    #do we leave the CAD price or change it to AUD?"
   ]
  },
  {
   "cell_type": "code",
   "execution_count": 216,
   "metadata": {},
   "outputs": [
    {
     "name": "stdout",
     "output_type": "stream",
     "text": [
      "The total crypto wallet balance is 65833.314\n",
      "The current value of your 1.2 BTC is $50307.60\n",
      "The current value of your 5.3 ETH is $15525.71\n"
     ]
    },
    {
     "data": {
      "text/html": [
       "<div>\n",
       "<style scoped>\n",
       "    .dataframe tbody tr th:only-of-type {\n",
       "        vertical-align: middle;\n",
       "    }\n",
       "\n",
       "    .dataframe tbody tr th {\n",
       "        vertical-align: top;\n",
       "    }\n",
       "\n",
       "    .dataframe thead th {\n",
       "        text-align: right;\n",
       "    }\n",
       "</style>\n",
       "<table border=\"1\" class=\"dataframe\">\n",
       "  <thead>\n",
       "    <tr style=\"text-align: right;\">\n",
       "      <th></th>\n",
       "      <th>Assets</th>\n",
       "      <th>Amount</th>\n",
       "      <th>Price</th>\n",
       "      <th>Value</th>\n",
       "    </tr>\n",
       "  </thead>\n",
       "  <tbody>\n",
       "    <tr>\n",
       "      <th>0</th>\n",
       "      <td>BTC</td>\n",
       "      <td>1.2</td>\n",
       "      <td>41923.00</td>\n",
       "      <td>50307.600</td>\n",
       "    </tr>\n",
       "    <tr>\n",
       "      <th>1</th>\n",
       "      <td>ETH</td>\n",
       "      <td>5.3</td>\n",
       "      <td>2929.38</td>\n",
       "      <td>15525.714</td>\n",
       "    </tr>\n",
       "  </tbody>\n",
       "</table>\n",
       "</div>"
      ],
      "text/plain": [
       "  Assets  Amount     Price      Value\n",
       "0    BTC     1.2  41923.00  50307.600\n",
       "1    ETH     5.3   2929.38  15525.714"
      ]
     },
     "execution_count": 216,
     "metadata": {},
     "output_type": "execute_result"
    }
   ],
   "source": [
    "import json\n",
    "# Fetch current BTC price\n",
    "btc = requests.get(btc_url)\n",
    "btc.content\n",
    "btcdata = btc.json()\n",
    "    #print(json.dumps(btcdata, indent=4))\n",
    "btc_price = btcdata['data']['1']['quotes']['USD']['price']\n",
    "\n",
    "# Fetch current ETH price\n",
    "eth = requests.get(eth_url)\n",
    "eth.content\n",
    "ethdata = eth.json()\n",
    "    #print(json.dumps(ethdata, indent=4))\n",
    "eth_price = ethdata['data']['1027']['quotes']['USD']['price']\n",
    "\n",
    "#adding prices to dataframe. \n",
    "df_crypto['Price'] = btc_price, eth_price\n",
    "\n",
    "# Compute current value of my crypto\n",
    "my_btc_value = (btc_price)*(my_btc)\n",
    "my_eth_value = (eth_price)*(my_eth)\n",
    "my_crypto = my_btc_value + my_eth_value\n",
    "\n",
    "#adding values to df \n",
    "df_crypto['Value'] = [my_btc_value, my_eth_value]\n",
    "\n",
    "# Print current crypto wallet balance\n",
    "print(f\"The total crypto wallet balance is {my_crypto}\")\n",
    "\n",
    "print(f\"The current value of your {my_btc} BTC is ${my_btc_value:0.2f}\")\n",
    "print(f\"The current value of your {my_eth} ETH is ${my_eth_value:0.2f}\")\n",
    "\n",
    "df_crypto"
   ]
  },
  {
   "cell_type": "code",
   "execution_count": null,
   "metadata": {},
   "outputs": [],
   "source": []
  },
  {
   "cell_type": "markdown",
   "metadata": {},
   "source": [
    "### Collect Investments Data Using Alpaca: `SPY` (stocks) and `AGG` (bonds)"
   ]
  },
  {
   "cell_type": "code",
   "execution_count": 217,
   "metadata": {},
   "outputs": [],
   "source": [
    "# Set current amount of shares\n",
    "my_agg = 200\n",
    "my_spy = 50"
   ]
  },
  {
   "cell_type": "code",
   "execution_count": 218,
   "metadata": {},
   "outputs": [
    {
     "name": "stdout",
     "output_type": "stream",
     "text": [
      "<class 'str'>\n"
     ]
    }
   ],
   "source": [
    "# Set Alpaca API key and secret\n",
    "alpaca_api_key = os.getenv(\"APCA_API_KEY_ID\")#ALPACA_API_KEY\n",
    "alpaca_secret_key = os.getenv(\"APCA_API_SECRET_KEY\")#ALPACA_SECRET_KEY\n",
    "\n",
    "\n",
    "# Create the Alpaca API object\n",
    "alpaca = tradeapi.REST( #api = tradeapi.REST( #original \n",
    "    alpaca_api_key,\n",
    "    alpaca_secret_key,\n",
    "    api_version=\"v2\"\n",
    ")\n",
    "print(type(alpaca_api_key))"
   ]
  },
  {
   "cell_type": "code",
   "execution_count": 219,
   "metadata": {},
   "outputs": [
    {
     "data": {
      "text/html": [
       "<div>\n",
       "<style scoped>\n",
       "    .dataframe tbody tr th:only-of-type {\n",
       "        vertical-align: middle;\n",
       "    }\n",
       "\n",
       "    .dataframe tbody tr th {\n",
       "        vertical-align: top;\n",
       "    }\n",
       "\n",
       "    .dataframe thead th {\n",
       "        text-align: right;\n",
       "    }\n",
       "</style>\n",
       "<table border=\"1\" class=\"dataframe\">\n",
       "  <thead>\n",
       "    <tr style=\"text-align: right;\">\n",
       "      <th></th>\n",
       "      <th>open</th>\n",
       "      <th>high</th>\n",
       "      <th>low</th>\n",
       "      <th>AGG_close</th>\n",
       "      <th>volume</th>\n",
       "      <th>trade_count</th>\n",
       "      <th>vwap</th>\n",
       "      <th>symbol</th>\n",
       "    </tr>\n",
       "    <tr>\n",
       "      <th>timestamp</th>\n",
       "      <th></th>\n",
       "      <th></th>\n",
       "      <th></th>\n",
       "      <th></th>\n",
       "      <th></th>\n",
       "      <th></th>\n",
       "      <th></th>\n",
       "      <th></th>\n",
       "    </tr>\n",
       "  </thead>\n",
       "  <tbody>\n",
       "    <tr>\n",
       "      <th>2022-02-17 05:00:00+00:00</th>\n",
       "      <td>109.560</td>\n",
       "      <td>109.8050</td>\n",
       "      <td>109.5146</td>\n",
       "      <td>109.64</td>\n",
       "      <td>9807695</td>\n",
       "      <td>25959</td>\n",
       "      <td>109.652013</td>\n",
       "      <td>AGG</td>\n",
       "    </tr>\n",
       "    <tr>\n",
       "      <th>2022-02-18 05:00:00+00:00</th>\n",
       "      <td>109.830</td>\n",
       "      <td>109.8800</td>\n",
       "      <td>109.7100</td>\n",
       "      <td>109.87</td>\n",
       "      <td>6896731</td>\n",
       "      <td>20755</td>\n",
       "      <td>109.811675</td>\n",
       "      <td>AGG</td>\n",
       "    </tr>\n",
       "    <tr>\n",
       "      <th>2022-02-22 05:00:00+00:00</th>\n",
       "      <td>109.680</td>\n",
       "      <td>109.7800</td>\n",
       "      <td>109.5650</td>\n",
       "      <td>109.75</td>\n",
       "      <td>6925944</td>\n",
       "      <td>21241</td>\n",
       "      <td>109.684022</td>\n",
       "      <td>AGG</td>\n",
       "    </tr>\n",
       "    <tr>\n",
       "      <th>2022-02-23 05:00:00+00:00</th>\n",
       "      <td>109.525</td>\n",
       "      <td>109.5500</td>\n",
       "      <td>109.2300</td>\n",
       "      <td>109.26</td>\n",
       "      <td>10990618</td>\n",
       "      <td>24439</td>\n",
       "      <td>109.388778</td>\n",
       "      <td>AGG</td>\n",
       "    </tr>\n",
       "    <tr>\n",
       "      <th>2022-02-24 05:00:00+00:00</th>\n",
       "      <td>109.670</td>\n",
       "      <td>109.7681</td>\n",
       "      <td>109.1700</td>\n",
       "      <td>109.46</td>\n",
       "      <td>12371968</td>\n",
       "      <td>36217</td>\n",
       "      <td>109.528219</td>\n",
       "      <td>AGG</td>\n",
       "    </tr>\n",
       "  </tbody>\n",
       "</table>\n",
       "</div>"
      ],
      "text/plain": [
       "                              open      high       low  AGG_close    volume  \\\n",
       "timestamp                                                                     \n",
       "2022-02-17 05:00:00+00:00  109.560  109.8050  109.5146     109.64   9807695   \n",
       "2022-02-18 05:00:00+00:00  109.830  109.8800  109.7100     109.87   6896731   \n",
       "2022-02-22 05:00:00+00:00  109.680  109.7800  109.5650     109.75   6925944   \n",
       "2022-02-23 05:00:00+00:00  109.525  109.5500  109.2300     109.26  10990618   \n",
       "2022-02-24 05:00:00+00:00  109.670  109.7681  109.1700     109.46  12371968   \n",
       "\n",
       "                           trade_count        vwap symbol  \n",
       "timestamp                                                  \n",
       "2022-02-17 05:00:00+00:00        25959  109.652013    AGG  \n",
       "2022-02-18 05:00:00+00:00        20755  109.811675    AGG  \n",
       "2022-02-22 05:00:00+00:00        21241  109.684022    AGG  \n",
       "2022-02-23 05:00:00+00:00        24439  109.388778    AGG  \n",
       "2022-02-24 05:00:00+00:00        36217  109.528219    AGG  "
      ]
     },
     "execution_count": 219,
     "metadata": {},
     "output_type": "execute_result"
    }
   ],
   "source": [
    "from alpaca_trade_api.rest import REST, TimeFrame\n",
    "api = REST()\n",
    "\n",
    "agg_df = api.get_bars([\"AGG\"], TimeFrame.Day, \"2022-02-17\", \"2022-03-17\").df\n",
    "agg_df.rename(columns = {\"close\": \"AGG_close\"}, inplace=True)\n",
    "\n",
    "spy_df = api.get_bars([\"SPY\"], TimeFrame.Day, \"2022-02-17\", \"2022-03-17\").df\n",
    "spy_df.rename(columns = {\"close\": \"SPY_close\"}, inplace=True)\n",
    "\n",
    "agg_df.head()"
   ]
  },
  {
   "cell_type": "code",
   "execution_count": 220,
   "metadata": {},
   "outputs": [
    {
     "data": {
      "text/html": [
       "<div>\n",
       "<style scoped>\n",
       "    .dataframe tbody tr th:only-of-type {\n",
       "        vertical-align: middle;\n",
       "    }\n",
       "\n",
       "    .dataframe tbody tr th {\n",
       "        vertical-align: top;\n",
       "    }\n",
       "\n",
       "    .dataframe thead th {\n",
       "        text-align: right;\n",
       "    }\n",
       "</style>\n",
       "<table border=\"1\" class=\"dataframe\">\n",
       "  <thead>\n",
       "    <tr style=\"text-align: right;\">\n",
       "      <th></th>\n",
       "      <th>open</th>\n",
       "      <th>high</th>\n",
       "      <th>low</th>\n",
       "      <th>AGG_close</th>\n",
       "      <th>volume</th>\n",
       "      <th>trade_count</th>\n",
       "      <th>vwap</th>\n",
       "      <th>symbol</th>\n",
       "      <th>open</th>\n",
       "      <th>high</th>\n",
       "      <th>low</th>\n",
       "      <th>SPY_close</th>\n",
       "      <th>volume</th>\n",
       "      <th>trade_count</th>\n",
       "      <th>vwap</th>\n",
       "      <th>symbol</th>\n",
       "    </tr>\n",
       "    <tr>\n",
       "      <th>timestamp</th>\n",
       "      <th></th>\n",
       "      <th></th>\n",
       "      <th></th>\n",
       "      <th></th>\n",
       "      <th></th>\n",
       "      <th></th>\n",
       "      <th></th>\n",
       "      <th></th>\n",
       "      <th></th>\n",
       "      <th></th>\n",
       "      <th></th>\n",
       "      <th></th>\n",
       "      <th></th>\n",
       "      <th></th>\n",
       "      <th></th>\n",
       "      <th></th>\n",
       "    </tr>\n",
       "  </thead>\n",
       "  <tbody>\n",
       "    <tr>\n",
       "      <th>2022-02-17 05:00:00+00:00</th>\n",
       "      <td>109.560</td>\n",
       "      <td>109.8050</td>\n",
       "      <td>109.5146</td>\n",
       "      <td>109.64</td>\n",
       "      <td>9807695</td>\n",
       "      <td>25959</td>\n",
       "      <td>109.652013</td>\n",
       "      <td>AGG</td>\n",
       "      <td>443.42</td>\n",
       "      <td>446.5652</td>\n",
       "      <td>436.42</td>\n",
       "      <td>437.06</td>\n",
       "      <td>96723839</td>\n",
       "      <td>824571</td>\n",
       "      <td>440.088813</td>\n",
       "      <td>SPY</td>\n",
       "    </tr>\n",
       "    <tr>\n",
       "      <th>2022-02-18 05:00:00+00:00</th>\n",
       "      <td>109.830</td>\n",
       "      <td>109.8800</td>\n",
       "      <td>109.7100</td>\n",
       "      <td>109.87</td>\n",
       "      <td>6896731</td>\n",
       "      <td>20755</td>\n",
       "      <td>109.811675</td>\n",
       "      <td>AGG</td>\n",
       "      <td>437.38</td>\n",
       "      <td>438.6600</td>\n",
       "      <td>431.82</td>\n",
       "      <td>434.23</td>\n",
       "      <td>127857744</td>\n",
       "      <td>1101247</td>\n",
       "      <td>435.262307</td>\n",
       "      <td>SPY</td>\n",
       "    </tr>\n",
       "    <tr>\n",
       "      <th>2022-02-22 05:00:00+00:00</th>\n",
       "      <td>109.680</td>\n",
       "      <td>109.7800</td>\n",
       "      <td>109.5650</td>\n",
       "      <td>109.75</td>\n",
       "      <td>6925944</td>\n",
       "      <td>21241</td>\n",
       "      <td>109.684022</td>\n",
       "      <td>AGG</td>\n",
       "      <td>431.99</td>\n",
       "      <td>435.5000</td>\n",
       "      <td>425.86</td>\n",
       "      <td>429.57</td>\n",
       "      <td>120256973</td>\n",
       "      <td>1169538</td>\n",
       "      <td>430.723141</td>\n",
       "      <td>SPY</td>\n",
       "    </tr>\n",
       "    <tr>\n",
       "      <th>2022-02-23 05:00:00+00:00</th>\n",
       "      <td>109.525</td>\n",
       "      <td>109.5500</td>\n",
       "      <td>109.2300</td>\n",
       "      <td>109.26</td>\n",
       "      <td>10990618</td>\n",
       "      <td>24439</td>\n",
       "      <td>109.388778</td>\n",
       "      <td>AGG</td>\n",
       "      <td>432.62</td>\n",
       "      <td>433.2600</td>\n",
       "      <td>421.35</td>\n",
       "      <td>421.95</td>\n",
       "      <td>125417608</td>\n",
       "      <td>1112641</td>\n",
       "      <td>426.017915</td>\n",
       "      <td>SPY</td>\n",
       "    </tr>\n",
       "    <tr>\n",
       "      <th>2022-02-24 05:00:00+00:00</th>\n",
       "      <td>109.670</td>\n",
       "      <td>109.7681</td>\n",
       "      <td>109.1700</td>\n",
       "      <td>109.46</td>\n",
       "      <td>12371968</td>\n",
       "      <td>36217</td>\n",
       "      <td>109.528219</td>\n",
       "      <td>AGG</td>\n",
       "      <td>411.01</td>\n",
       "      <td>428.7600</td>\n",
       "      <td>410.64</td>\n",
       "      <td>427.99</td>\n",
       "      <td>213249029</td>\n",
       "      <td>2310796</td>\n",
       "      <td>419.738184</td>\n",
       "      <td>SPY</td>\n",
       "    </tr>\n",
       "  </tbody>\n",
       "</table>\n",
       "</div>"
      ],
      "text/plain": [
       "                              open      high       low  AGG_close    volume  \\\n",
       "timestamp                                                                     \n",
       "2022-02-17 05:00:00+00:00  109.560  109.8050  109.5146     109.64   9807695   \n",
       "2022-02-18 05:00:00+00:00  109.830  109.8800  109.7100     109.87   6896731   \n",
       "2022-02-22 05:00:00+00:00  109.680  109.7800  109.5650     109.75   6925944   \n",
       "2022-02-23 05:00:00+00:00  109.525  109.5500  109.2300     109.26  10990618   \n",
       "2022-02-24 05:00:00+00:00  109.670  109.7681  109.1700     109.46  12371968   \n",
       "\n",
       "                           trade_count        vwap symbol    open      high  \\\n",
       "timestamp                                                                     \n",
       "2022-02-17 05:00:00+00:00        25959  109.652013    AGG  443.42  446.5652   \n",
       "2022-02-18 05:00:00+00:00        20755  109.811675    AGG  437.38  438.6600   \n",
       "2022-02-22 05:00:00+00:00        21241  109.684022    AGG  431.99  435.5000   \n",
       "2022-02-23 05:00:00+00:00        24439  109.388778    AGG  432.62  433.2600   \n",
       "2022-02-24 05:00:00+00:00        36217  109.528219    AGG  411.01  428.7600   \n",
       "\n",
       "                              low  SPY_close     volume  trade_count  \\\n",
       "timestamp                                                              \n",
       "2022-02-17 05:00:00+00:00  436.42     437.06   96723839       824571   \n",
       "2022-02-18 05:00:00+00:00  431.82     434.23  127857744      1101247   \n",
       "2022-02-22 05:00:00+00:00  425.86     429.57  120256973      1169538   \n",
       "2022-02-23 05:00:00+00:00  421.35     421.95  125417608      1112641   \n",
       "2022-02-24 05:00:00+00:00  410.64     427.99  213249029      2310796   \n",
       "\n",
       "                                 vwap symbol  \n",
       "timestamp                                     \n",
       "2022-02-17 05:00:00+00:00  440.088813    SPY  \n",
       "2022-02-18 05:00:00+00:00  435.262307    SPY  \n",
       "2022-02-22 05:00:00+00:00  430.723141    SPY  \n",
       "2022-02-23 05:00:00+00:00  426.017915    SPY  \n",
       "2022-02-24 05:00:00+00:00  419.738184    SPY  "
      ]
     },
     "execution_count": 220,
     "metadata": {},
     "output_type": "execute_result"
    }
   ],
   "source": [
    "df_stocks = pd.concat([agg_df, spy_df], axis=1)\n",
    "#df_stocks.reset_index()\n",
    "df_stocks.head(5)"
   ]
  },
  {
   "cell_type": "code",
   "execution_count": null,
   "metadata": {},
   "outputs": [],
   "source": []
  },
  {
   "cell_type": "code",
   "execution_count": 221,
   "metadata": {},
   "outputs": [],
   "source": [
    "# Format current date as ISO format - what i originally had\n",
    "#today = pd.Timestamp('2020-03-15', tz=\"America/New_York\").isoformat()\n",
    "# Set the tickers\n",
    "#tickers = [\"AGG\", \"SPY\"]\n",
    "\n",
    "# Set timeframe to '1D' for Alpaca API\n",
    "#timeframe = \"1D\"\n",
    "\n",
    "# Get current closing prices for SPY and AGG\n",
    "# (use a limit=1000 parameter to call the most recent 1000 days of data)\n",
    "#original: df_stocks = tradeapi.get_barset(\n",
    "#df_stocks = api.get_barset(\n",
    "#    tickers,\n",
    "#    timeframe,\n",
    "#    start = today,\n",
    "#    end = today,\n",
    "#    limit = 1000\n",
    "#).df\n",
    "\n",
    "# Preview DataFrame\n",
    "#df_stocks.reset_index()"
   ]
  },
  {
   "cell_type": "code",
   "execution_count": null,
   "metadata": {},
   "outputs": [],
   "source": []
  },
  {
   "cell_type": "code",
   "execution_count": 222,
   "metadata": {},
   "outputs": [
    {
     "name": "stdout",
     "output_type": "stream",
     "text": [
      "Current AGG closing price: $107.86\n",
      "Current SPY closing price: $441.07\n"
     ]
    }
   ],
   "source": [
    "# Pick AGG and SPY close prices\n",
    "agg_close_price = df_stocks[\"AGG_close\"]\n",
    "spy_close_price = df_stocks[\"SPY_close\"]\n",
    "#print(spy_close_price.head())\n",
    "agg_close_price = agg_close_price[-1]\n",
    "spy_close_price = spy_close_price[-1]\n",
    "\n",
    "# Print AGG and SPY close prices\n",
    "print(f\"Current AGG closing price: ${agg_close_price}\")\n",
    "print(f\"Current SPY closing price: ${spy_close_price}\")"
   ]
  },
  {
   "cell_type": "code",
   "execution_count": null,
   "metadata": {},
   "outputs": [],
   "source": []
  },
  {
   "cell_type": "code",
   "execution_count": 223,
   "metadata": {},
   "outputs": [
    {
     "name": "stdout",
     "output_type": "stream",
     "text": [
      "The current value of your 50 SPY shares is $22053.50\n",
      "The current value of your 200 AGG shares is $21572.00\n",
      "The total current value of your shares is $43625.50\n"
     ]
    }
   ],
   "source": [
    "# Compute the current value of shares\n",
    "my_agg_value = (my_agg)*(agg_close_price)\n",
    "my_spy_value = (my_spy)*(spy_close_price)\n",
    "\n",
    "\n",
    "\n",
    "total_share_value = (my_spy_value) + (my_agg_value)\n",
    "\n",
    "# Print current value of shares\n",
    "print(f\"The current value of your {my_spy} SPY shares is ${my_spy_value:0.2f}\")\n",
    "print(f\"The current value of your {my_agg} AGG shares is ${my_agg_value:0.2f}\")\n",
    "\n",
    "print(f\"The total current value of your shares is ${total_share_value:0.2f}\")"
   ]
  },
  {
   "cell_type": "code",
   "execution_count": null,
   "metadata": {},
   "outputs": [],
   "source": []
  },
  {
   "cell_type": "markdown",
   "metadata": {},
   "source": [
    "### Savings Health Analysis"
   ]
  },
  {
   "cell_type": "code",
   "execution_count": 224,
   "metadata": {},
   "outputs": [
    {
     "data": {
      "text/html": [
       "<div>\n",
       "<style scoped>\n",
       "    .dataframe tbody tr th:only-of-type {\n",
       "        vertical-align: middle;\n",
       "    }\n",
       "\n",
       "    .dataframe tbody tr th {\n",
       "        vertical-align: top;\n",
       "    }\n",
       "\n",
       "    .dataframe thead th {\n",
       "        text-align: right;\n",
       "    }\n",
       "</style>\n",
       "<table border=\"1\" class=\"dataframe\">\n",
       "  <thead>\n",
       "    <tr style=\"text-align: right;\">\n",
       "      <th></th>\n",
       "      <th>Price</th>\n",
       "      <th>Value</th>\n",
       "    </tr>\n",
       "    <tr>\n",
       "      <th>Name</th>\n",
       "      <th></th>\n",
       "      <th></th>\n",
       "    </tr>\n",
       "  </thead>\n",
       "  <tbody>\n",
       "    <tr>\n",
       "      <th>BTC</th>\n",
       "      <td>41923.0</td>\n",
       "      <td>50307.6</td>\n",
       "    </tr>\n",
       "    <tr>\n",
       "      <th>ETH</th>\n",
       "      <td>2929.38</td>\n",
       "      <td>15525.714</td>\n",
       "    </tr>\n",
       "    <tr>\n",
       "      <th>AGG</th>\n",
       "      <td>107.86</td>\n",
       "      <td>21572.0</td>\n",
       "    </tr>\n",
       "    <tr>\n",
       "      <th>SPY</th>\n",
       "      <td>441.07</td>\n",
       "      <td>22053.5</td>\n",
       "    </tr>\n",
       "  </tbody>\n",
       "</table>\n",
       "</div>"
      ],
      "text/plain": [
       "        Price      Value\n",
       "Name                    \n",
       "BTC   41923.0    50307.6\n",
       "ETH   2929.38  15525.714\n",
       "AGG    107.86    21572.0\n",
       "SPY    441.07    22053.5"
      ]
     },
     "metadata": {},
     "output_type": "display_data"
    }
   ],
   "source": [
    "# Set monthly household income\n",
    "monthly_income = 12000\n",
    "\n",
    "# Consolidate financial assets data\n",
    "df_savings = pd.DataFrame(columns=['Name', 'Price', 'Value'])\n",
    "\n",
    "df_savings['Name'] = ['BTC', 'ETH', 'AGG', 'SPY']\n",
    "#df_savings['Name'] = crypto_tickers, tickers\n",
    "\n",
    "\n",
    "#adding current prices\n",
    "df_savings['Price'].iloc[0] = btc_price\n",
    "df_savings['Price'].iloc[1] = eth_price\n",
    "\n",
    "df_savings['Price'].iloc[2] = agg_close_price\n",
    "df_savings['Price'].iloc[3] = spy_close_price\n",
    "\n",
    "\n",
    "#adding crypto values\n",
    "df_savings['Value'].iloc[0] = my_btc_value\n",
    "df_savings['Value'].iloc[1] = my_eth_value\n",
    "\n",
    "df_savings['Value'].iloc[2] = my_agg_value\n",
    "df_savings['Value'].iloc[3] = my_spy_value\n",
    "\n",
    "#reset index to the names\n",
    "df_savings = df_savings.set_index('Name')\n",
    "\n",
    "# Create savings DataFrame\n",
    "#df_savings = df_savings.df\n",
    "\n",
    "# Display savings DataFrame\n",
    "display(df_savings)"
   ]
  },
  {
   "cell_type": "code",
   "execution_count": 225,
   "metadata": {},
   "outputs": [
    {
     "data": {
      "image/png": "[encoded data removed]",
      "text/plain": [
       "<Figure size 720x720 with 1 Axes>"
      ]
     },
     "metadata": {},
     "output_type": "display_data"
    }
   ],
   "source": [
    "# Plot savings pie chart\n",
    "#if you have darkmode on you wont be able to view the messages because the text is black\n",
    "savings_plot = df_savings.plot.pie(y='Value', figsize=(10, 10), title='Savings Value')"
   ]
  },
  {
   "cell_type": "code",
   "execution_count": 226,
   "metadata": {},
   "outputs": [
    {
     "name": "stdout",
     "output_type": "stream",
     "text": [
      "Total savings: $109458.814, emergency fund target is $36000\n",
      "Congratulations you have enough savings for a sufficient emergency fund\n"
     ]
    }
   ],
   "source": [
    "# Set ideal emergency fund\n",
    "emergency_fund = monthly_income * 3\n",
    "\n",
    "# Calculate total amount of savings\n",
    "total_value_savings = df_savings['Value'].sum() \n",
    "#printed total savings and emergency fund for better understanding and to verify the if statements are working correctly\n",
    "print(f'Total savings: ${total_value_savings}, emergency fund target is ${emergency_fund}')\n",
    "\n",
    "# Validate saving health\n",
    "if total_value_savings == emergency_fund:\n",
    "    print('You have reached your finacial goal of an ideal emergency fund')\n",
    "\n",
    "elif total_value_savings > emergency_fund:\n",
    "    print('Congratulations you have enough savings for a sufficient emergency fund')\n",
    "\n",
    "elif total_value_savings < emergency_fund:\n",
    "    left = emergency_fund - total_value_savings\n",
    "    print(f'You are ${left} away from reaching your ideal emergency fund')\n"
   ]
  },
  {
   "cell_type": "code",
   "execution_count": null,
   "metadata": {},
   "outputs": [],
   "source": []
  },
  {
   "cell_type": "markdown",
   "metadata": {},
   "source": [
    "## Part 2 - Retirement Planning\n",
    "\n",
    "### Monte Carlo Simulation"
   ]
  },
  {
   "cell_type": "code",
   "execution_count": 227,
   "metadata": {},
   "outputs": [],
   "source": [
    "# Set start and end dates of five years back from today.\n",
    "# Sample results may vary from the solution based on the time frame chosen\n",
    "\n",
    "    #old.\n",
    "start_date = pd.Timestamp('2017-03-16', tz='America/New_York').isoformat()\n",
    "end_date = pd.Timestamp('2022-03-16', tz='America/New_York').isoformat()"
   ]
  },
  {
   "cell_type": "code",
   "execution_count": 228,
   "metadata": {},
   "outputs": [
    {
     "data": {
      "text/html": [
       "<div>\n",
       "<style scoped>\n",
       "    .dataframe tbody tr th:only-of-type {\n",
       "        vertical-align: middle;\n",
       "    }\n",
       "\n",
       "    .dataframe tbody tr th {\n",
       "        vertical-align: top;\n",
       "    }\n",
       "\n",
       "    .dataframe thead th {\n",
       "        text-align: right;\n",
       "    }\n",
       "</style>\n",
       "<table border=\"1\" class=\"dataframe\">\n",
       "  <thead>\n",
       "    <tr style=\"text-align: right;\">\n",
       "      <th></th>\n",
       "      <th>AGG</th>\n",
       "      <th>SPY</th>\n",
       "    </tr>\n",
       "    <tr>\n",
       "      <th>timestamp</th>\n",
       "      <th></th>\n",
       "      <th></th>\n",
       "    </tr>\n",
       "  </thead>\n",
       "  <tbody>\n",
       "    <tr>\n",
       "      <th>2022-02-17 05:00:00+00:00</th>\n",
       "      <td>109.64</td>\n",
       "      <td>437.06</td>\n",
       "    </tr>\n",
       "    <tr>\n",
       "      <th>2022-02-18 05:00:00+00:00</th>\n",
       "      <td>109.87</td>\n",
       "      <td>434.23</td>\n",
       "    </tr>\n",
       "    <tr>\n",
       "      <th>2022-02-22 05:00:00+00:00</th>\n",
       "      <td>109.75</td>\n",
       "      <td>429.57</td>\n",
       "    </tr>\n",
       "    <tr>\n",
       "      <th>2022-02-23 05:00:00+00:00</th>\n",
       "      <td>109.26</td>\n",
       "      <td>421.95</td>\n",
       "    </tr>\n",
       "    <tr>\n",
       "      <th>2022-02-24 05:00:00+00:00</th>\n",
       "      <td>109.46</td>\n",
       "      <td>427.99</td>\n",
       "    </tr>\n",
       "    <tr>\n",
       "      <th>2022-02-25 05:00:00+00:00</th>\n",
       "      <td>109.57</td>\n",
       "      <td>437.75</td>\n",
       "    </tr>\n",
       "    <tr>\n",
       "      <th>2022-02-28 05:00:00+00:00</th>\n",
       "      <td>110.36</td>\n",
       "      <td>436.63</td>\n",
       "    </tr>\n",
       "    <tr>\n",
       "      <th>2022-03-01 05:00:00+00:00</th>\n",
       "      <td>110.82</td>\n",
       "      <td>429.98</td>\n",
       "    </tr>\n",
       "    <tr>\n",
       "      <th>2022-03-02 05:00:00+00:00</th>\n",
       "      <td>109.49</td>\n",
       "      <td>437.89</td>\n",
       "    </tr>\n",
       "    <tr>\n",
       "      <th>2022-03-03 05:00:00+00:00</th>\n",
       "      <td>109.86</td>\n",
       "      <td>435.71</td>\n",
       "    </tr>\n",
       "    <tr>\n",
       "      <th>2022-03-04 05:00:00+00:00</th>\n",
       "      <td>110.30</td>\n",
       "      <td>432.17</td>\n",
       "    </tr>\n",
       "    <tr>\n",
       "      <th>2022-03-07 05:00:00+00:00</th>\n",
       "      <td>109.66</td>\n",
       "      <td>419.43</td>\n",
       "    </tr>\n",
       "    <tr>\n",
       "      <th>2022-03-08 05:00:00+00:00</th>\n",
       "      <td>109.27</td>\n",
       "      <td>416.25</td>\n",
       "    </tr>\n",
       "    <tr>\n",
       "      <th>2022-03-09 05:00:00+00:00</th>\n",
       "      <td>109.04</td>\n",
       "      <td>427.41</td>\n",
       "    </tr>\n",
       "    <tr>\n",
       "      <th>2022-03-10 05:00:00+00:00</th>\n",
       "      <td>108.43</td>\n",
       "      <td>425.48</td>\n",
       "    </tr>\n",
       "    <tr>\n",
       "      <th>2022-03-11 05:00:00+00:00</th>\n",
       "      <td>108.41</td>\n",
       "      <td>420.07</td>\n",
       "    </tr>\n",
       "    <tr>\n",
       "      <th>2022-03-14 04:00:00+00:00</th>\n",
       "      <td>107.36</td>\n",
       "      <td>417.00</td>\n",
       "    </tr>\n",
       "    <tr>\n",
       "      <th>2022-03-15 04:00:00+00:00</th>\n",
       "      <td>107.60</td>\n",
       "      <td>426.17</td>\n",
       "    </tr>\n",
       "    <tr>\n",
       "      <th>2022-03-16 04:00:00+00:00</th>\n",
       "      <td>107.68</td>\n",
       "      <td>435.62</td>\n",
       "    </tr>\n",
       "    <tr>\n",
       "      <th>2022-03-17 04:00:00+00:00</th>\n",
       "      <td>107.86</td>\n",
       "      <td>441.07</td>\n",
       "    </tr>\n",
       "  </tbody>\n",
       "</table>\n",
       "</div>"
      ],
      "text/plain": [
       "                              AGG     SPY\n",
       "timestamp                                \n",
       "2022-02-17 05:00:00+00:00  109.64  437.06\n",
       "2022-02-18 05:00:00+00:00  109.87  434.23\n",
       "2022-02-22 05:00:00+00:00  109.75  429.57\n",
       "2022-02-23 05:00:00+00:00  109.26  421.95\n",
       "2022-02-24 05:00:00+00:00  109.46  427.99\n",
       "2022-02-25 05:00:00+00:00  109.57  437.75\n",
       "2022-02-28 05:00:00+00:00  110.36  436.63\n",
       "2022-03-01 05:00:00+00:00  110.82  429.98\n",
       "2022-03-02 05:00:00+00:00  109.49  437.89\n",
       "2022-03-03 05:00:00+00:00  109.86  435.71\n",
       "2022-03-04 05:00:00+00:00  110.30  432.17\n",
       "2022-03-07 05:00:00+00:00  109.66  419.43\n",
       "2022-03-08 05:00:00+00:00  109.27  416.25\n",
       "2022-03-09 05:00:00+00:00  109.04  427.41\n",
       "2022-03-10 05:00:00+00:00  108.43  425.48\n",
       "2022-03-11 05:00:00+00:00  108.41  420.07\n",
       "2022-03-14 04:00:00+00:00  107.36  417.00\n",
       "2022-03-15 04:00:00+00:00  107.60  426.17\n",
       "2022-03-16 04:00:00+00:00  107.68  435.62\n",
       "2022-03-17 04:00:00+00:00  107.86  441.07"
      ]
     },
     "metadata": {},
     "output_type": "display_data"
    }
   ],
   "source": [
    "# Get 5 years' worth of historical data for SPY and AGG\n",
    "# (use a limit=1000 parameter to call the most recent 1000 days of data)\n",
    "agg_5df = api.get_bars([\"AGG\"], TimeFrame.Day, \"2017-02-17\", \"2022-03-17\").df\n",
    "agg_5df.rename(columns = {\"close\": \"AGG_close\"}, inplace=True)\n",
    "\n",
    "spy_5df = api.get_bars([\"SPY\"], TimeFrame.Day, \"2022-02-17\", \"2022-03-17\").df\n",
    "spy_5df.rename(columns = {\"close\": \"SPY_close\"}, inplace=True)\n",
    "\n",
    "\n",
    "# Display sample data\n",
    "\n",
    "five_yr_stocks = pd.concat([agg_df, spy_df], axis=1)\n",
    "five_yr_stocks.head()\n",
    "#just closes\n",
    "\n",
    "\n",
    "five_yr_stocks = pd.DataFrame(columns=['AGG', 'SPY'])\n",
    "\n",
    "#df_savings['Name'] = crypto_tickers, tickers\n",
    "\n",
    "\n",
    "#adding current prices\n",
    "five_yr_stocks['AGG'] = agg_5df['AGG_close']\n",
    "five_yr_stocks['SPY'] = spy_5df['SPY_close']\n",
    "\n",
    "#drop nulls\n",
    "five_yr_stocks = five_yr_stocks.dropna().copy()\n",
    "# Display savings DataFrame\n",
    "display(five_yr_stocks)"
   ]
  },
  {
   "cell_type": "code",
   "execution_count": 229,
   "metadata": {},
   "outputs": [],
   "source": [
    "# Get 5 years' worth of historical data for SPY and AGG\n",
    "# (use a limit=1000 parameter to call the most recent 1000 days of data)\n",
    "#five_yr_stocks = api.get_barset(\n",
    " #   tickers,\n",
    "  #  timeframe,\n",
    "  #  start = start_date,\n",
    " #   end = end_date,\n",
    "  #  limit = 1000\n",
    "#).df\n",
    "\n",
    "# Display sample data\n",
    "#five_yr_stocks.head(-10)\n",
    "\n",
    "#df_savings['Name'] = crypto_tickers, tickers\n",
    "\n",
    "#otherinfo = pd.concat([agg_df, spy_df], axis=1)\n",
    "#adding current prices\n",
    "\n",
    "#drop nulls\n",
    "#otherinfo = otherinfo.dropna().copy()\n",
    "\n",
    "#newtest = otherinfo.groupby(['AGG_close', 'SPY_close']).agg({'AGG_close': ['open', 'high', 'low', 'AGG_close', 'volume', 'trade_count', 'vwap', 'symbol'], 'SPY_close': ['open', 'high', 'low', 'SPY_close', 'volume', 'trade_count', 'vwap', 'symbol']})\n",
    "# Display savings DataFrame\n",
    "#otherinfo.head()"
   ]
  },
  {
   "cell_type": "code",
   "execution_count": 230,
   "metadata": {},
   "outputs": [
    {
     "ename": "IndexError",
     "evalue": "Too many levels: Index has only 1 level, not 2",
     "output_type": "error",
     "traceback": [
      "\u001b[0;31m---------------------------------------------------------------------------\u001b[0m",
      "\u001b[0;31mIndexError\u001b[0m                                Traceback (most recent call last)",
      "\u001b[0;32m/var/folders/m7/rynp7npd69d8gtn9dqc_ry_c0000gn/T/ipykernel_23197/4106542113.py\u001b[0m in \u001b[0;36m<module>\u001b[0;34m\u001b[0m\n\u001b[1;32m      5\u001b[0m     \u001b[0mweights\u001b[0m \u001b[0;34m=\u001b[0m \u001b[0;34m[\u001b[0m\u001b[0;36m.40\u001b[0m\u001b[0;34m,\u001b[0m \u001b[0;36m.60\u001b[0m\u001b[0;34m]\u001b[0m\u001b[0;34m,\u001b[0m\u001b[0;34m\u001b[0m\u001b[0;34m\u001b[0m\u001b[0m\n\u001b[1;32m      6\u001b[0m     \u001b[0mnum_simulation\u001b[0m \u001b[0;34m=\u001b[0m \u001b[0;36m500\u001b[0m\u001b[0;34m,\u001b[0m\u001b[0;34m\u001b[0m\u001b[0;34m\u001b[0m\u001b[0m\n\u001b[0;32m----> 7\u001b[0;31m     \u001b[0mnum_trading_days\u001b[0m \u001b[0;34m=\u001b[0m \u001b[0;36m252\u001b[0m\u001b[0;34m*\u001b[0m\u001b[0;36m30\u001b[0m\u001b[0;34m\u001b[0m\u001b[0;34m\u001b[0m\u001b[0m\n\u001b[0m\u001b[1;32m      8\u001b[0m )\n",
      "\u001b[0;32m~/Desktop/HomeWork/apis-homework/MCForecastTools.py\u001b[0m in \u001b[0;36m__init__\u001b[0;34m(self, portfolio_data, weights, num_simulation, num_trading_days)\u001b[0m\n\u001b[1;32m     59\u001b[0m \u001b[0;34m\u001b[0m\u001b[0m\n\u001b[1;32m     60\u001b[0m         \u001b[0;31m# Calculate daily return if not within dataframe\u001b[0m\u001b[0;34m\u001b[0m\u001b[0;34m\u001b[0m\u001b[0;34m\u001b[0m\u001b[0m\n\u001b[0;32m---> 61\u001b[0;31m         \u001b[0;32mif\u001b[0m \u001b[0;32mnot\u001b[0m \u001b[0;34m\"daily_return\"\u001b[0m \u001b[0;32min\u001b[0m \u001b[0mportfolio_data\u001b[0m\u001b[0;34m.\u001b[0m\u001b[0mcolumns\u001b[0m\u001b[0;34m.\u001b[0m\u001b[0mget_level_values\u001b[0m\u001b[0;34m(\u001b[0m\u001b[0;36m1\u001b[0m\u001b[0;34m)\u001b[0m\u001b[0;34m.\u001b[0m\u001b[0munique\u001b[0m\u001b[0;34m(\u001b[0m\u001b[0;34m)\u001b[0m\u001b[0;34m:\u001b[0m\u001b[0;34m\u001b[0m\u001b[0;34m\u001b[0m\u001b[0m\n\u001b[0m\u001b[1;32m     62\u001b[0m             \u001b[0mclose_df\u001b[0m \u001b[0;34m=\u001b[0m \u001b[0mportfolio_data\u001b[0m\u001b[0;34m.\u001b[0m\u001b[0mxs\u001b[0m\u001b[0;34m(\u001b[0m\u001b[0;34m'close'\u001b[0m\u001b[0;34m,\u001b[0m\u001b[0mlevel\u001b[0m\u001b[0;34m=\u001b[0m\u001b[0;36m1\u001b[0m\u001b[0;34m,\u001b[0m\u001b[0maxis\u001b[0m\u001b[0;34m=\u001b[0m\u001b[0;36m1\u001b[0m\u001b[0;34m)\u001b[0m\u001b[0;34m.\u001b[0m\u001b[0mpct_change\u001b[0m\u001b[0;34m(\u001b[0m\u001b[0;34m)\u001b[0m\u001b[0;34m\u001b[0m\u001b[0;34m\u001b[0m\u001b[0m\n\u001b[1;32m     63\u001b[0m             \u001b[0mtickers\u001b[0m \u001b[0;34m=\u001b[0m \u001b[0mportfolio_data\u001b[0m\u001b[0;34m.\u001b[0m\u001b[0mcolumns\u001b[0m\u001b[0;34m.\u001b[0m\u001b[0mget_level_values\u001b[0m\u001b[0;34m(\u001b[0m\u001b[0;36m0\u001b[0m\u001b[0;34m)\u001b[0m\u001b[0;34m.\u001b[0m\u001b[0munique\u001b[0m\u001b[0;34m(\u001b[0m\u001b[0;34m)\u001b[0m\u001b[0;34m\u001b[0m\u001b[0;34m\u001b[0m\u001b[0m\n",
      "\u001b[0;32m/opt/anaconda3/envs/alpacaenv/lib/python3.7/site-packages/pandas/core/indexes/base.py\u001b[0m in \u001b[0;36m_get_level_values\u001b[0;34m(self, level)\u001b[0m\n\u001b[1;32m   1805\u001b[0m         \u001b[0mIndex\u001b[0m\u001b[0;34m(\u001b[0m\u001b[0;34m[\u001b[0m\u001b[0;34m'a'\u001b[0m\u001b[0;34m,\u001b[0m \u001b[0;34m'b'\u001b[0m\u001b[0;34m,\u001b[0m \u001b[0;34m'c'\u001b[0m\u001b[0;34m]\u001b[0m\u001b[0;34m,\u001b[0m \u001b[0mdtype\u001b[0m\u001b[0;34m=\u001b[0m\u001b[0;34m'object'\u001b[0m\u001b[0;34m)\u001b[0m\u001b[0;34m\u001b[0m\u001b[0;34m\u001b[0m\u001b[0m\n\u001b[1;32m   1806\u001b[0m         \"\"\"\n\u001b[0;32m-> 1807\u001b[0;31m         \u001b[0mself\u001b[0m\u001b[0;34m.\u001b[0m\u001b[0m_validate_index_level\u001b[0m\u001b[0;34m(\u001b[0m\u001b[0mlevel\u001b[0m\u001b[0;34m)\u001b[0m\u001b[0;34m\u001b[0m\u001b[0;34m\u001b[0m\u001b[0m\n\u001b[0m\u001b[1;32m   1808\u001b[0m         \u001b[0;32mreturn\u001b[0m \u001b[0mself\u001b[0m\u001b[0;34m\u001b[0m\u001b[0;34m\u001b[0m\u001b[0m\n\u001b[1;32m   1809\u001b[0m \u001b[0;34m\u001b[0m\u001b[0m\n",
      "\u001b[0;32m/opt/anaconda3/envs/alpacaenv/lib/python3.7/site-packages/pandas/core/indexes/base.py\u001b[0m in \u001b[0;36m_validate_index_level\u001b[0;34m(self, level)\u001b[0m\n\u001b[1;32m   1725\u001b[0m             \u001b[0;32melif\u001b[0m \u001b[0mlevel\u001b[0m \u001b[0;34m>\u001b[0m \u001b[0;36m0\u001b[0m\u001b[0;34m:\u001b[0m\u001b[0;34m\u001b[0m\u001b[0;34m\u001b[0m\u001b[0m\n\u001b[1;32m   1726\u001b[0m                 raise IndexError(\n\u001b[0;32m-> 1727\u001b[0;31m                     \u001b[0;34mf\"Too many levels: Index has only 1 level, not {level + 1}\"\u001b[0m\u001b[0;34m\u001b[0m\u001b[0;34m\u001b[0m\u001b[0m\n\u001b[0m\u001b[1;32m   1728\u001b[0m                 )\n\u001b[1;32m   1729\u001b[0m         \u001b[0;32melif\u001b[0m \u001b[0mlevel\u001b[0m \u001b[0;34m!=\u001b[0m \u001b[0mself\u001b[0m\u001b[0;34m.\u001b[0m\u001b[0mname\u001b[0m\u001b[0;34m:\u001b[0m\u001b[0;34m\u001b[0m\u001b[0;34m\u001b[0m\u001b[0m\n",
      "\u001b[0;31mIndexError\u001b[0m: Too many levels: Index has only 1 level, not 2"
     ]
    }
   ],
   "source": [
    "# Configuring a Monte Carlo simulation to forecast 30 years cumulative returns\n",
    "\n",
    "mc_30yr = MCSimulation(\n",
    "    portfolio_data = five_yr_stocks,\n",
    "    weights = [.40, .60],\n",
    "    num_simulation = 500,\n",
    "    num_trading_days = 252*30\n",
    ")\n"
   ]
  },
  {
   "cell_type": "code",
   "execution_count": null,
   "metadata": {},
   "outputs": [],
   "source": []
  },
  {
   "cell_type": "code",
   "execution_count": 210,
   "metadata": {},
   "outputs": [
    {
     "ename": "NameError",
     "evalue": "name 'mc_30yr' is not defined",
     "output_type": "error",
     "traceback": [
      "\u001b[0;31m---------------------------------------------------------------------------\u001b[0m",
      "\u001b[0;31mNameError\u001b[0m                                 Traceback (most recent call last)",
      "\u001b[0;32m/var/folders/m7/rynp7npd69d8gtn9dqc_ry_c0000gn/T/ipykernel_23197/3955163980.py\u001b[0m in \u001b[0;36m<module>\u001b[0;34m\u001b[0m\n\u001b[1;32m      1\u001b[0m \u001b[0;31m# Printing the simulation input data\u001b[0m\u001b[0;34m\u001b[0m\u001b[0;34m\u001b[0m\u001b[0;34m\u001b[0m\u001b[0m\n\u001b[0;32m----> 2\u001b[0;31m \u001b[0mmc_30yr\u001b[0m\u001b[0;34m.\u001b[0m\u001b[0mportfolio_data\u001b[0m\u001b[0;34m.\u001b[0m\u001b[0mhead\u001b[0m\u001b[0;34m(\u001b[0m\u001b[0;34m)\u001b[0m\u001b[0;34m\u001b[0m\u001b[0;34m\u001b[0m\u001b[0m\n\u001b[0m\u001b[1;32m      3\u001b[0m \u001b[0;34m\u001b[0m\u001b[0m\n\u001b[1;32m      4\u001b[0m \u001b[0;31m#???????\u001b[0m\u001b[0;34m\u001b[0m\u001b[0;34m\u001b[0m\u001b[0;34m\u001b[0m\u001b[0m\n\u001b[1;32m      5\u001b[0m \u001b[0mfive_yr_stocks\u001b[0m\u001b[0;34m.\u001b[0m\u001b[0mreset_index\u001b[0m\u001b[0;34m(\u001b[0m\u001b[0;34m)\u001b[0m\u001b[0;34m\u001b[0m\u001b[0;34m\u001b[0m\u001b[0m\n",
      "\u001b[0;31mNameError\u001b[0m: name 'mc_30yr' is not defined"
     ]
    }
   ],
   "source": [
    "# Printing the simulation input data\n",
    "mc_30yr.portfolio_data.head()\n",
    "\n",
    "#???????\n",
    "five_yr_stocks.reset_index()\n",
    "print(five_yr_stocks['AGG']['close']) #five_yr_stocks['SPY']['close'])"
   ]
  },
  {
   "cell_type": "code",
   "execution_count": null,
   "metadata": {},
   "outputs": [],
   "source": [
    "# Running a Monte Carlo simulation to forecast 30 years cumulative returns\n",
    "mc_30yr.calc_cumulative_return()"
   ]
  },
  {
   "cell_type": "code",
   "execution_count": null,
   "metadata": {},
   "outputs": [],
   "source": [
    "# Plot simulation outcomes\n",
    "line_plot = mc_30yr.plot_simulation()"
   ]
  },
  {
   "cell_type": "code",
   "execution_count": null,
   "metadata": {},
   "outputs": [],
   "source": [
    "# Plot probability distribution and confidence intervals\n",
    "dist_plot = mc_30yr.plot_distribution()"
   ]
  },
  {
   "cell_type": "markdown",
   "metadata": {},
   "source": [
    "### Retirement Analysis"
   ]
  },
  {
   "cell_type": "code",
   "execution_count": null,
   "metadata": {},
   "outputs": [],
   "source": [
    "# Fetch summary statistics from the Monte Carlo simulation results\n",
    "mc_sum = mc_30yr.summarize_cululative_return()\n",
    "# Print summary statistics\n",
    "print(mc_sum)"
   ]
  },
  {
   "cell_type": "markdown",
   "metadata": {},
   "source": [
    "### Calculate the expected portfolio return at the `95%` lower and upper confidence intervals based on a `$20,000` initial investment."
   ]
  },
  {
   "cell_type": "code",
   "execution_count": null,
   "metadata": {},
   "outputs": [],
   "source": [
    "# Set initial investment\n",
    "initial_investment = 20000\n",
    "\n",
    "# Use the lower and upper `95%` confidence intervals to calculate the range of the possible outcomes of our $20,000\n",
    "#grab the upper and lower values, then multpiply them by the amount??\n",
    "lower_con = \n",
    "upper_con = \n",
    "\n",
    "# upper/lower con multiplied by initial??\n",
    "\n",
    "ci_lower =\n",
    "ci_upper = \n",
    "# Print results\n",
    "print(f\"There is a 95% chance that an initial investment of ${initial_investment} in the portfolio\"\n",
    "      f\" over the next 30 years will end within in the range of\"\n",
    "      f\" ${ci_lower} and ${ci_upper}\")"
   ]
  },
  {
   "cell_type": "markdown",
   "metadata": {},
   "source": [
    "### Calculate the expected portfolio return at the `95%` lower and upper confidence intervals based on a `50%` increase in the initial investment."
   ]
  },
  {
   "cell_type": "code",
   "execution_count": null,
   "metadata": {},
   "outputs": [],
   "source": [
    "# Set initial investment\n",
    "initial_investment = 20000 * 1.5\n",
    "\n",
    "# Use the lower and upper `95%` confidence intervals to calculate the range of the possible outcomes of our $30,000\n",
    "lower_con = \n",
    "upper_con = \n",
    "\n",
    "# upper/lower con multiplied by initial??\n",
    "\n",
    "ci_lower =\n",
    "ci_upper = \n",
    "\n",
    "\n",
    "# Print results\n",
    "print(f\"There is a 95% chance that an initial investment of ${initial_investment} in the portfolio\"\n",
    "      f\" over the next 30 years will end within in the range of\"\n",
    "      f\" ${ci_lower} and ${ci_upper}\")"
   ]
  },
  {
   "cell_type": "markdown",
   "metadata": {},
   "source": [
    "## Optional Challenge - Early Retirement\n",
    "\n",
    "\n",
    "### Five Years Retirement Option"
   ]
  },
  {
   "cell_type": "code",
   "execution_count": 211,
   "metadata": {},
   "outputs": [
    {
     "ename": "SyntaxError",
     "evalue": "invalid syntax (3059116154.py, line 9)",
     "output_type": "error",
     "traceback": [
      "\u001b[0;36m  File \u001b[0;32m\"/var/folders/m7/rynp7npd69d8gtn9dqc_ry_c0000gn/T/ipykernel_23197/3059116154.py\"\u001b[0;36m, line \u001b[0;32m9\u001b[0m\n\u001b[0;31m    num_simulation = 500,\u001b[0m\n\u001b[0m                 ^\u001b[0m\n\u001b[0;31mSyntaxError\u001b[0m\u001b[0;31m:\u001b[0m invalid syntax\n"
     ]
    }
   ],
   "source": [
    "# Configuring a Monte Carlo simulation to forecast 5 years cumulative returns\n",
    "\n",
    "#refer to other thing readme\n",
    "\n",
    "daily_prices = five_yr_stocks # i started the challenge part but had an technical issue and all the stock apis werent working so i didnt have time to finish the optional challenge section :(\n",
    "mc_5yr = MCSimulation(\n",
    "    portfolio_data = df_ticker, ####????what is this? tickers?\n",
    "    weigths = [0.4, 0.6] #0.4 = agg, 0.6 = spy\n",
    "    num_simulation = 500,\n",
    "    num_trading-days = 252*5\n",
    ")\n",
    "\n",
    "#copy and paste fomr above***\n",
    "\n",
    "    # Printing the simulation input data\n",
    "mc_5yr.portfolio_data.head()\n",
    "\n",
    "#???????\n",
    "five_yr_stocks.reset_index()\n",
    "print(five_yr_stocks['AGG']['close']) #five_yr_stocks['SPY']['close']) ## maybe change variables????"
   ]
  },
  {
   "cell_type": "code",
   "execution_count": null,
   "metadata": {},
   "outputs": [],
   "source": [
    "# Running a Monte Carlo simulation to forecast 5 years cumulative returns\n",
    "mc_5yr.calc_cumulative_return()"
   ]
  },
  {
   "cell_type": "code",
   "execution_count": null,
   "metadata": {},
   "outputs": [],
   "source": [
    "# Plot simulation outcomes\n",
    "five_yr_line_plot = mc_5yr.plot_simulation()"
   ]
  },
  {
   "cell_type": "code",
   "execution_count": null,
   "metadata": {},
   "outputs": [],
   "source": [
    "# Plot probability distribution and confidence intervals\n",
    "dist_plot = mc_5yr.plot_distribution()"
   ]
  },
  {
   "cell_type": "code",
   "execution_count": null,
   "metadata": {},
   "outputs": [],
   "source": [
    "# Fetch summary statistics from the Monte Carlo simulation results\n",
    "mc_sum = mc_5yr.summarize_cululative_return()\n",
    "\n",
    "# Print summary statistics\n",
    "print(mc_sum)"
   ]
  },
  {
   "cell_type": "code",
   "execution_count": null,
   "metadata": {},
   "outputs": [],
   "source": [
    "# Set initial investment\n",
    "new_initial = 60000\n",
    "# Use the lower and upper `95%` confidence intervals to calculate the range of the possible outcomes of our $60,000\n",
    "# YOUR CODE HERE!\n",
    "\n",
    "# Print results\n",
    "print(f\"There is a 95% chance that an initial investment of ${initial_investment} in the portfolio\"\n",
    "      f\" over the next 5 years will end within in the range of\"\n",
    "      f\" ${ci_lower_five} and ${ci_upper_five}\")"
   ]
  },
  {
   "cell_type": "markdown",
   "metadata": {},
   "source": [
    "### Ten Years Retirement Option"
   ]
  },
  {
   "cell_type": "code",
   "execution_count": null,
   "metadata": {},
   "outputs": [],
   "source": [
    "# Configuring a Monte Carlo simulation to forecast 10 years cumulative returns\n",
    "# YOUR CODE HERE!"
   ]
  },
  {
   "cell_type": "code",
   "execution_count": null,
   "metadata": {},
   "outputs": [],
   "source": [
    "# Running a Monte Carlo simulation to forecast 10 years cumulative returns\n",
    "# YOUR CODE HERE!"
   ]
  },
  {
   "cell_type": "code",
   "execution_count": null,
   "metadata": {},
   "outputs": [],
   "source": [
    "# Plot simulation outcomes\n",
    "# YOUR CODE HERE!"
   ]
  },
  {
   "cell_type": "code",
   "execution_count": null,
   "metadata": {},
   "outputs": [],
   "source": [
    "# Plot probability distribution and confidence intervals\n",
    "# YOUR CODE HERE!"
   ]
  },
  {
   "cell_type": "code",
   "execution_count": null,
   "metadata": {},
   "outputs": [],
   "source": [
    "# Fetch summary statistics from the Monte Carlo simulation results\n",
    "# YOUR CODE HERE!\n",
    "\n",
    "# Print summary statistics\n",
    "# YOUR CODE HERE!"
   ]
  },
  {
   "cell_type": "code",
   "execution_count": null,
   "metadata": {},
   "outputs": [],
   "source": [
    "# Set initial investment\n",
    "# YOUR CODE HERE!\n",
    "\n",
    "# Use the lower and upper `95%` confidence intervals to calculate the range of the possible outcomes of our $60,000\n",
    "# YOUR CODE HERE!\n",
    "\n",
    "# Print results\n",
    "print(f\"There is a 95% chance that an initial investment of ${initial_investment} in the portfolio\"\n",
    "      f\" over the next 10 years will end within in the range of\"\n",
    "      f\" ${ci_lower_ten} and ${ci_upper_ten}\")"
   ]
  },
  {
   "cell_type": "code",
   "execution_count": null,
   "metadata": {},
   "outputs": [],
   "source": [
    "##"
   ]
  }
 ],
 "metadata": {
  "kernelspec": {
   "display_name": "Python 3 (ipykernel)",
   "language": "python",
   "name": "python3"
  },
  "language_info": {
   "codemirror_mode": {
    "name": "ipython",
    "version": 3
   },
   "file_extension": ".py",
   "mimetype": "text/x-python",
   "name": "python",
   "nbconvert_exporter": "python",
   "pygments_lexer": "ipython3",
   "version": "3.7.11"
  },
  "nteract": {
   "version": "0.28.0"
  }
 },
 "nbformat": 4,
 "nbformat_minor": 4
}
